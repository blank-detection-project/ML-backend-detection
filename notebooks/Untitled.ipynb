{
 "cells": [
  {
   "cell_type": "markdown",
   "id": "81eca618",
   "metadata": {},
   "source": [
    "# Functions"
   ]
  },
  {
   "cell_type": "code",
   "execution_count": 15,
   "id": "e6b4af8e",
   "metadata": {},
   "outputs": [],
   "source": [
    "import os\n",
    "\n",
    "from PIL import Image\n",
    "\n",
    "import torch\n",
    "import torchvision.transforms as transforms\n",
    "import torchvision.datasets as datasets\n",
    "from torch.utils.data import Dataset\n",
    "\n",
    "IMAGE_WIDTH = 28\n",
    "OUTPUT_SIZE = 10\n",
    "BATCH_SIZE = 10\n",
    "\n",
    "# Transforms each PIL.Image to a tensor that can be used as input in pytorch\n",
    "# For source of normalization values, see data_normalization_calculations.md\n",
    "# We use the same normalization for the test data as what was used for training\n",
    "normalization = transforms.Normalize((0.1305,), (0.3081,))\n",
    "transformations = transforms.Compose([transforms.ToTensor(), normalization])\n",
    "\n",
    "\n",
    "def get_train_loader():\n",
    "    train_dataset = get_dataset()\n",
    "    train_loader = get_loader(train_dataset)\n",
    "    return train_loader\n",
    "\n",
    "\n",
    "def get_test_loader():\n",
    "    test_dataset = get_dataset(train=False)\n",
    "    test_loader = get_loader(test_dataset, shuffle=False)\n",
    "    return test_loader\n",
    "\n",
    "\n",
    "def train_network(model, data_loader, num_epochs, loss_function, optimizer):\n",
    "    for epoch in range(num_epochs):\n",
    "        model = model.train()\n",
    "        for batch in enumerate(data_loader):\n",
    "            i, (images, expected_outputs) = batch\n",
    "\n",
    "            outputs = model(images)\n",
    "            loss = loss_function(outputs, expected_outputs)\n",
    "\n",
    "            optimizer.zero_grad()\n",
    "            loss.backward()\n",
    "            optimizer.step()\n",
    "\n",
    "        epoch_info = \"Epoch {}/{}\".format(epoch+1, num_epochs)\n",
    "        test_loader = get_test_loader()\n",
    "        test_network(model, test_loader, epoch_info)\n",
    "\n",
    "\n",
    "def test_network(model, data_loader, epoch_info=\"\"):\n",
    "    model = model.eval()\n",
    "    with torch.no_grad():\n",
    "        correct = 0\n",
    "        total = 0\n",
    "        for batch in data_loader:\n",
    "            images, expected_outputs = batch\n",
    "\n",
    "            outputs = model(images)\n",
    "\n",
    "            # get the predicted value from each output in the batch\n",
    "            predicted_outputs = torch.argmax(outputs, dim=1)\n",
    "            correct += (predicted_outputs == expected_outputs).sum()\n",
    "            total += expected_outputs.size(0)\n",
    "\n",
    "        results_str = f\"Test data results: {float(correct)/total}\"\n",
    "        if epoch_info:\n",
    "            results_str += f\", {epoch_info}\"\n",
    "        print(results_str)\n",
    "\n",
    "\n",
    "def get_dataset(root=\"./data\", train=True, transform=transformations,\n",
    "                download=True):\n",
    "    return datasets.MNIST(root=root, train=train, transform=transform,\n",
    "                          download=download)\n",
    "\n",
    "\n",
    "def get_loader(dataset, batch_size=BATCH_SIZE, shuffle=True):\n",
    "    return torch.utils.data.DataLoader(dataset=dataset, batch_size=batch_size,\n",
    "                                       shuffle=shuffle)\n",
    "\n",
    "\n",
    "# ExtendedMNISTDataSet is designed to match the logic used for MNIST dataset in\n",
    "# https://pytorch.org/docs/stable/_modules/torchvision/datasets/mnist.html\n",
    "class ExtendedMNISTDataSet(Dataset):\n",
    "    def __init__(self, root, transform, download):\n",
    "        self.root = root\n",
    "        self.transform = transform\n",
    "        self.download = download\n",
    "\n",
    "        self.training_file = 'training.pt'\n",
    "        self.training_dir_path = os.path.join(self.root,\n",
    "                                              self.__class__.__name__)\n",
    "        self.training_file_path = os.path.join(self.training_dir_path,\n",
    "                                               self.training_file)\n",
    "\n",
    "        if not os.path.exists(self.training_file_path):\n",
    "            print(\"generating extended training data...\")\n",
    "            makedir_exist_ok(self.training_dir_path)\n",
    "\n",
    "            self.data, self.targets = self.generate_extended_data()\n",
    "\n",
    "            with open(self.training_file_path, 'wb') as f:\n",
    "                torch.save((self.data, self.targets), f)\n",
    "        else:\n",
    "            print(\"loading extended training data from file...\")\n",
    "            self.data, self.targets = torch.load(self.training_file_path)\n",
    "\n",
    "    def __len__(self):\n",
    "        return len(self.data)\n",
    "\n",
    "    def __getitem__(self, index):\n",
    "        image, target = self.data[index], int(self.targets[index])\n",
    "        image = Image.fromarray(image.numpy(), mode='L')\n",
    "        if self.transform is not None:\n",
    "            image = self.transform(image)\n",
    "        return image, target\n",
    "\n",
    "    def generate_extended_data(self):\n",
    "        training_dataset = datasets.MNIST(root=self.root, train=True,\n",
    "                                          transform=self.transform,\n",
    "                                          download=self.download)\n",
    "\n",
    "        shift_operations = [identity, shift_right, shift_left, shift_up,\n",
    "                            shift_down]\n",
    "        extended_images = [shift(image)\n",
    "                           for image in training_dataset.data\n",
    "                           for shift in shift_operations]\n",
    "        extended_targets = [target for target in training_dataset.targets\n",
    "                            for _ in shift_operations]\n",
    "\n",
    "        return extended_images, extended_targets\n",
    "\n",
    "\n",
    "def identity(tensor):\n",
    "    return tensor\n",
    "\n",
    "\n",
    "def shift_right(tensor):\n",
    "    shifted = torch.roll(tensor, 1, 1)\n",
    "    shifted[:, 0] = 0.0\n",
    "    return shifted\n",
    "\n",
    "\n",
    "def shift_left(tensor):\n",
    "    shifted = torch.roll(tensor, -1, 1)\n",
    "    shifted[:, IMAGE_WIDTH-1] = 0.0\n",
    "    return shifted\n",
    "\n",
    "\n",
    "def shift_up(tensor):\n",
    "    shifted = torch.roll(tensor, -1, 0)\n",
    "    shifted[IMAGE_WIDTH-1, :] = 0.0\n",
    "    return shifted\n",
    "\n",
    "\n",
    "def shift_down(tensor):\n",
    "    shifted = torch.roll(tensor, 1, 0)\n",
    "    shifted[0, :] = 0.0\n",
    "    return shifted"
   ]
  },
  {
   "cell_type": "code",
   "execution_count": 16,
   "id": "70b40957",
   "metadata": {},
   "outputs": [],
   "source": [
    "import torch\n",
    "from torch import nn"
   ]
  },
  {
   "cell_type": "code",
   "execution_count": 17,
   "id": "083d9295",
   "metadata": {},
   "outputs": [],
   "source": [
    "class ConvNetSimple(nn.Module):\n",
    "    def __init__(self):\n",
    "        super().__init__()\n",
    "        self.conv1 = nn.Conv2d(in_channels=1, out_channels=20, kernel_size=5)\n",
    "        self.fc1 = nn.Linear(12*12*20, 100)\n",
    "        self.out = nn.Linear(100, OUTPUT_SIZE)\n",
    "\n",
    "    def forward(self, x):\n",
    "        x = self.conv1(x)\n",
    "        x = torch.sigmoid(x)\n",
    "        x = torch.max_pool2d(x, kernel_size=2, stride=2)\n",
    "\n",
    "        x = x.view(-1, 12*12*20)\n",
    "        x = self.fc1(x)\n",
    "        x = torch.sigmoid(x)\n",
    "\n",
    "        x = self.out(x)\n",
    "        return x"
   ]
  },
  {
   "cell_type": "code",
   "execution_count": 18,
   "id": "0f656a5e",
   "metadata": {},
   "outputs": [],
   "source": [
    "def train_and_test_network(net, num_epochs=60, lr=0.1, wd=0,\n",
    "                           loss_function=nn.CrossEntropyLoss(),\n",
    "                           train_loader=get_train_loader(),\n",
    "                           test_loader=get_test_loader()):\n",
    "    sgd = torch.optim.SGD(net.parameters(), lr=lr, weight_decay=wd)\n",
    "\n",
    "    train_network(net, train_loader, num_epochs, loss_function, sgd)\n",
    "\n",
    "    print(\"\")\n",
    "\n",
    "    test_network(net, test_loader)"
   ]
  },
  {
   "cell_type": "markdown",
   "id": "ee9eca41",
   "metadata": {},
   "source": [
    "# Обучение"
   ]
  },
  {
   "cell_type": "code",
   "execution_count": null,
   "id": "8974e283",
   "metadata": {},
   "outputs": [],
   "source": [
    "net = ConvNetSimple()\n",
    "train_and_test_network(net, num_epochs=10)"
   ]
  },
  {
   "cell_type": "markdown",
   "id": "0474552c",
   "metadata": {},
   "source": [
    "# Exps"
   ]
  },
  {
   "cell_type": "code",
   "execution_count": 213,
   "id": "cd5c663f",
   "metadata": {},
   "outputs": [],
   "source": [
    "import matplotlib.pyplot as plt\n",
    "import numpy as np\n",
    "import random\n",
    "\n",
    "from os import listdir\n",
    "from os.path import isfile, join"
   ]
  },
  {
   "cell_type": "code",
   "execution_count": 218,
   "id": "52a0e95e",
   "metadata": {},
   "outputs": [],
   "source": [
    "tr_loader = get_train_loader()"
   ]
  },
  {
   "cell_type": "code",
   "execution_count": 219,
   "id": "2d954d68",
   "metadata": {},
   "outputs": [],
   "source": [
    "for X, y in tr_loader:\n",
    "    images = X\n",
    "    break"
   ]
  },
  {
   "cell_type": "code",
   "execution_count": 238,
   "id": "e0371f70",
   "metadata": {},
   "outputs": [],
   "source": [
    "def make_noise(h, w):\n",
    "    return np.random.normal(loc=0.1305, scale=0.05, size=(h, w))\n",
    "\n",
    "def random_roll(image, p=0.5):\n",
    "    horizont_roll = 0\n",
    "    vertical_roll = 0\n",
    "    rnd = random.uniform(0, 1)\n",
    "    if rnd <= p:\n",
    "        horizont_roll += 1\n",
    "\n",
    "    rnd = random.uniform(0, 1)\n",
    "    if rnd <= p:\n",
    "        horizont_roll -= 1\n",
    "    \n",
    "    rnd = random.uniform(0, 1)\n",
    "    if rnd <= p:\n",
    "        vertical_roll += 1\n",
    "    rnd = random.uniform(0, 1)\n",
    "    if rnd <= p:\n",
    "        vertical_roll -= 1\n",
    "    \n",
    "    print(horizont_roll)\n",
    "    print(vertical_roll)\n",
    "    return np.roll(image, (horizont_roll, vertical_roll))\n",
    "\n",
    "\n",
    "def pad_const(img, w_hor, w_ver, dirty=10):\n",
    "    img = np.copy(img)\n",
    "    black = img.min() \n",
    "    white = img.max()\n",
    "    img_size = 28\n",
    "    \n",
    "    if w_hor != 0:\n",
    "        img[:w_hor] = white + make_noise(w_hor, img_size)\n",
    "        img[-w_hor:] = white + make_noise(w_hor, img_size)\n",
    "        for i in range(dirty):\n",
    "            idx2 = random.randint(0, 26)\n",
    "            img[w_hor-1, idx2] = black\n",
    "\n",
    "            idx2 = random.randint(0, 26)\n",
    "            img[-w_hor, idx2] = black\n",
    "            \n",
    "    if w_ver != 0:\n",
    "        img[::, :w_ver] = white + make_noise(img_size, w_ver)\n",
    "        img[::, -w_ver:] = white + make_noise(img_size, w_ver)\n",
    "        for i in range(dirty):\n",
    "            idx2 = random.randint(0, 26)\n",
    "            img[idx2, w_ver-1] = black\n",
    "\n",
    "            idx2 = random.randint(0, 26)\n",
    "            img[idx2, -w_ver] = black\n",
    "    \n",
    "    return random_roll(img)"
   ]
  },
  {
   "cell_type": "code",
   "execution_count": 239,
   "id": "aeb1fb56",
   "metadata": {},
   "outputs": [
    {
     "name": "stdout",
     "output_type": "stream",
     "text": [
      "-1\n",
      "0\n"
     ]
    },
    {
     "data": {
      "text/plain": [
       "<matplotlib.image.AxesImage at 0x299b6c790>"
      ]
     },
     "execution_count": 239,
     "metadata": {},
     "output_type": "execute_result"
    },
    {
     "data": {
      "image/png": "[encoded data removed]",
      "text/plain": [
       "<Figure size 640x480 with 1 Axes>"
      ]
     },
     "metadata": {},
     "output_type": "display_data"
    }
   ],
   "source": [
    "idx = 0\n",
    "\n",
    "img = images[idx].squeeze().numpy()\n",
    "img = pad_const(img, np.random.randint(0, 3), np.random.randint(0, 3))\n",
    "plt.imshow(img, cmap='gray')"
   ]
  },
  {
   "cell_type": "code",
   "execution_count": 195,
   "id": "8410939b",
   "metadata": {},
   "outputs": [
    {
     "data": {
      "text/plain": [
       "(28, 28)"
      ]
     },
     "execution_count": 195,
     "metadata": {},
     "output_type": "execute_result"
    }
   ],
   "source": [
    "img.shape"
   ]
  },
  {
   "cell_type": "code",
   "execution_count": 60,
   "id": "e09a4c82",
   "metadata": {},
   "outputs": [],
   "source": [
    "folder = \"real_mnist\"\n",
    "files = [join(folder, f) for f in listdir(folder) if isfile(join(folder, f))][1::]"
   ]
  },
  {
   "cell_type": "code",
   "execution_count": 200,
   "id": "cca67df5",
   "metadata": {},
   "outputs": [
    {
     "data": {
      "text/plain": [
       "<matplotlib.image.AxesImage at 0x296572f90>"
      ]
     },
     "execution_count": 200,
     "metadata": {},
     "output_type": "execute_result"
    },
    {
     "data": {
      "image/png": "[encoded data removed]",
      "text/plain": [
       "<Figure size 640x480 with 1 Axes>"
      ]
     },
     "metadata": {},
     "output_type": "display_data"
    }
   ],
   "source": [
    "idx = 0\n",
    "\n",
    "image = plt.imread(files[idx])\n",
    "\n",
    "plt.imshow(image, cmap='gray')"
   ]
  },
  {
   "cell_type": "code",
   "execution_count": 123,
   "id": "73ffd83a",
   "metadata": {},
   "outputs": [
    {
     "data": {
      "text/plain": [
       "array([[252,   0,   2,   0,   3,   0,   0,   0,   1,   0,   0,   1,   0,\n",
       "          0,   0,   0,   3,   0,   1,   0,   0,   0,   0,   1,   1,   0,\n",
       "        130, 251],\n",
       "       [255, 254, 255, 255, 253, 252, 255, 255, 253, 255, 255, 252, 255,\n",
       "        252, 255, 255, 252, 255, 255, 255, 255, 255, 255, 252, 255, 252,\n",
       "        255, 255],\n",
       "       [252, 255, 254, 255, 255, 255, 254, 255, 255, 255, 255, 255, 255,\n",
       "        255, 252, 252, 255, 255, 255, 249, 255, 255, 253, 255, 254, 255,\n",
       "        254, 253],\n",
       "       [255,   7, 195, 190, 189, 189, 192, 190, 190, 190, 190, 187, 187,\n",
       "        191, 194, 192, 190, 189, 191, 193, 190, 192, 188, 190, 193, 191,\n",
       "        252, 255],\n",
       "       [251,   0,   0,   2,   2,   1,   1,   0,   2,   0,   1,   4,   0,\n",
       "          0,   0,   0,   1,   1,   0,   3,   0,   1,   5,   0,   0,   0,\n",
       "        243, 255],\n",
       "       [246,   3,   0,   0,   0,   0,   0,   4,   0,   2,   0,   0,   2,\n",
       "          0,   5, 151, 120,  28,   0,   1,   0,   0,   0,   0,   1,   0,\n",
       "        243, 253],\n",
       "       [250,   0,   4,   0,   3,   4,   0,   0,   0,   0,   2,   0,   0,\n",
       "         13, 250, 255, 255, 255,   2,   0,   4,   0,   0,   2,   0,   2,\n",
       "        244, 255],\n",
       "       [249,   0,   1,   0,   0,   0,   2,   0,   1,   0,   0,   2,   0,\n",
       "        255, 255, 255, 254, 255,  86,   0,   0,   0,   0,   0,   1,   0,\n",
       "        244, 255],\n",
       "       [249,   0,   0,   1,   0,   0,   0,   0,   1,   0,   0,   2, 253,\n",
       "        255, 255,  26,  25, 255,  87,   0,   1,   0,   1,   0,   0,   0,\n",
       "        243, 255],\n",
       "       [249,   0,   0,   1,   0,   0,   0,   0,   0,   2,   2,   0, 255,\n",
       "        255,  19,   0,   1, 157,  85,   0,   3,   0,   3,   1,   0,   0,\n",
       "        243, 255],\n",
       "       [249,   0,   0,   1,   0,   0,   0,   0,   2,   0,   0,   3, 254,\n",
       "        162,   0,   2,   1, 254, 255,   5,   2,   0,   0,   0,   0,   0,\n",
       "        243, 255],\n",
       "       [249,   0,   0,   1,   0,   0,   0,   0,   1,   2,   1,   2, 255,\n",
       "        128,   1,   0, 171, 255, 139,   0,   0,   2,   1,   0,   0,   0,\n",
       "        243, 255],\n",
       "       [249,   0,   0,   1,   0,   0,   0,   0,   0,   0,   2,   0, 252,\n",
       "        255,   0, 255, 255, 158,  34,   1,   0,   0,   0,   1,   0,   0,\n",
       "        243, 255],\n",
       "       [249,   0,   0,   1,   0,   0,   0,   0,   1,   1,   0,   0, 255,\n",
       "        253, 194, 254, 255,   0,   0,   3,   0,   0,   1,   0,   0,   0,\n",
       "        243, 255],\n",
       "       [249,   0,   0,   1,   0,   0,   0,   0,   3,   0,   0,   1, 179,\n",
       "        255, 255, 255, 104,   0,   3,   0,   1,   1,   0,   0,   0,   0,\n",
       "        243, 255],\n",
       "       [249,   0,   0,   1,   0,   0,   0,   0,   0,   0,   1, 103, 254,\n",
       "        255, 253, 255, 253,  41,   0,   1,   0,   0,   1,   0,   0,   0,\n",
       "        243, 255],\n",
       "       [249,   0,   0,   0,   1,   0,   1,   0,   0,   0,  33, 255, 255,\n",
       "        214,   0, 218, 255, 255,   0,   1,   1,   1,   0,   0,   0,   0,\n",
       "        243, 255],\n",
       "       [250,   0,   0,   0,   1,   0,   0,   0,   1,   1, 138, 251, 254,\n",
       "          1,   1,   0, 255, 255,  24,   0,   0,   1,   0,   0,   0,   0,\n",
       "        243, 255],\n",
       "       [250,   0,   1,   0,   1,   0,   0,   0,   0,   0, 254, 255, 236,\n",
       "          2,   0,   0, 124, 252,  87,   0,   3,   1,   0,   3,   0,   0,\n",
       "        243, 255],\n",
       "       [249,   0,   0,   0,   1,   0,   0,   0,   0,   1, 251, 255, 140,\n",
       "          0,   3,   0,   0, 255,  84,   2,   0,   0,   4,   0,   0,   0,\n",
       "        243, 255],\n",
       "       [251,   0,   0,   0,   1,   0,   0,   0,   0,   1,  98, 255, 253,\n",
       "          7,   0,   2,   4, 254,  88,   0,   1,   0,   1,   0,   0,   0,\n",
       "        243, 255],\n",
       "       [253,   1,   0,   0,   1,   0,   0,   0,   2,   0,   0, 255, 255,\n",
       "        253,   0,   1, 253, 255,  86,   0,   0,   1,   0,   1,   0,   0,\n",
       "        243, 255],\n",
       "       [255,   1,   0,   0,   1,   0,   0,   0,   0,   0,   2,  23, 255,\n",
       "        255, 255, 253, 254, 253,   0,   0,   3,   0,   0,   0,   0,   0,\n",
       "        243, 255],\n",
       "       [255,   1,   0,   0,   2,   0,   0,   1,   1,   0,   0,   1,  43,\n",
       "        255, 253, 255, 255,   0,   2,   0,   0,   1,   1,   1,   0,   0,\n",
       "        243, 255],\n",
       "       [255,   0,   0,   0,   0,   0,   0,   0,   0,   0,   1,   0,   2,\n",
       "         33,  62,  66,  26,   3,   0,   1,   0,   0,   2,   0,   0,   0,\n",
       "        243, 255],\n",
       "       [255,   0,   0,   0,   0,   0,   0,   0,   1,   0,   2,   2,   0,\n",
       "          0,   2,   0,   4,   0,   0,   4,   0,   0,   1,   0,   0,   0,\n",
       "        243, 255],\n",
       "       [255,   0,   0,   0,   0,   0,   0,   0,   2,   0,   0,   2,   0,\n",
       "          0,   1,   1,   0,   0,   1,   2,   0,   0,   1,   0,   0,   0,\n",
       "        243, 255],\n",
       "       [255,   0,   0,   0,   0,   0,   0,   0,   1,   1,   0,   0,   0,\n",
       "          0,   0,   0,   2,   2,   0,   0,   0,   1,   1,   0,   0,   0,\n",
       "        243, 255]], dtype=uint8)"
      ]
     },
     "execution_count": 123,
     "metadata": {},
     "output_type": "execute_result"
    }
   ],
   "source": [
    "image"
   ]
  },
  {
   "cell_type": "code",
   "execution_count": null,
   "id": "8827b447",
   "metadata": {},
   "outputs": [],
   "source": []
  }
 ],
 "metadata": {
  "kernelspec": {
   "display_name": "Python 3 (ipykernel)",
   "language": "python",
   "name": "python3"
  },
  "language_info": {
   "codemirror_mode": {
    "name": "ipython",
    "version": 3
   },
   "file_extension": ".py",
   "mimetype": "text/x-python",
   "name": "python",
   "nbconvert_exporter": "python",
   "pygments_lexer": "ipython3",
   "version": "3.11.4"
  }
 },
 "nbformat": 4,
 "nbformat_minor": 5
}

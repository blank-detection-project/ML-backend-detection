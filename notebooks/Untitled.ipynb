{
 "cells": [
  {
   "cell_type": "markdown",
   "id": "35a82ab0",
   "metadata": {},
   "source": [
    "# Functions"
   ]
  },
  {
   "cell_type": "code",
   "execution_count": 162,
   "id": "f1275ceb",
   "metadata": {},
   "outputs": [],
   "source": [
    "import matplotlib.pyplot as plt\n",
    "import numpy as np\n",
    "import random\n",
    "import copy\n",
    "\n",
    "from os import listdir\n",
    "from os.path import isfile, join"
   ]
  },
  {
   "cell_type": "code",
   "execution_count": 188,
   "id": "0a509d03",
   "metadata": {},
   "outputs": [],
   "source": [
    "import os\n",
    "\n",
    "from PIL import Image\n",
    "\n",
    "import torch\n",
    "import torchvision.transforms as transforms\n",
    "import torchvision.datasets as datasets\n",
    "from torch.utils.data import Dataset\n",
    "\n",
    "IMAGE_WIDTH = 28\n",
    "OUTPUT_SIZE = 10\n",
    "BATCH_SIZE = 16\n",
    "BEST_RES = -1\n",
    "BEST_MODEL = None\n",
    "\n",
    "# Transforms each PIL.Image to a tensor that can be used as input in pytorch\n",
    "# For source of normalization values, see data_normalization_calculations.md\n",
    "# We use the same normalization for the test data as what was used for training\n",
    "normalization = transforms.Normalize((0.1305,), (0.3081,))\n",
    "transformations = transforms.Compose([transforms.ToTensor(), normalization])\n",
    "\n",
    "\n",
    "def get_train_loader(transform=transformations):\n",
    "    train_dataset = get_dataset(transform=transform)\n",
    "    train_loader = get_loader(train_dataset)\n",
    "    return train_loader\n",
    "\n",
    "\n",
    "def get_test_loader(transform=transformations):\n",
    "    test_dataset = get_dataset(train=False, transform=transform)\n",
    "    test_loader = get_loader(test_dataset, shuffle=False)\n",
    "    return test_loader\n",
    "\n",
    "\n",
    "def train_network(model, data_loader, num_epochs, loss_function, optimizer):\n",
    "    for epoch in range(num_epochs):\n",
    "        model = model.train()\n",
    "        for batch in enumerate(data_loader):\n",
    "            i, (images, expected_outputs) = batch\n",
    "\n",
    "            outputs = model(images)\n",
    "            loss = loss_function(outputs, expected_outputs)\n",
    "\n",
    "            optimizer.zero_grad()\n",
    "            loss.backward()\n",
    "            optimizer.step()\n",
    "\n",
    "        epoch_info = \"Epoch {}/{}\".format(epoch+1, num_epochs)\n",
    "        test_loader = get_test_loader()\n",
    "        test_network(model, test_loader, epoch_info)\n",
    "\n",
    "\n",
    "def test_network(model, data_loader, epoch_info=\"\"):\n",
    "    global BEST_RES, BEST_MODEL\n",
    "    \n",
    "    model = model.eval()\n",
    "    with torch.no_grad():\n",
    "        correct = 0\n",
    "        total = 0\n",
    "        for batch in data_loader:\n",
    "            images, expected_outputs = batch\n",
    "\n",
    "            outputs = model(images)\n",
    "\n",
    "            # get the predicted value from each output in the batch\n",
    "            predicted_outputs = torch.argmax(outputs, dim=1)\n",
    "            correct += (predicted_outputs == expected_outputs).sum()\n",
    "            total += expected_outputs.size(0)\n",
    "\n",
    "        results_str = f\"Test data results: {float(correct)/total}\"\n",
    "        \n",
    "        if float(correct)/total > BEST_RES:\n",
    "            BEST_MODEL = copy.deepcopy(model)\n",
    "            BEST_RES = float(correct)/total\n",
    "        \n",
    "        results_str = f\"Test data results: {float(correct)/total}\"\n",
    "        if epoch_info:\n",
    "            results_str += f\", {epoch_info}\"\n",
    "        print(results_str)\n",
    "\n",
    "\n",
    "def get_dataset(root=\"./data\", train=True, transform=transformations,\n",
    "                download=True):\n",
    "    return datasets.MNIST(root=root, train=train, transform=transform,\n",
    "                          download=download)\n",
    "\n",
    "\n",
    "def get_loader(dataset, batch_size=BATCH_SIZE, shuffle=True):\n",
    "    return torch.utils.data.DataLoader(dataset=dataset, batch_size=batch_size,\n",
    "                                       shuffle=shuffle)\n",
    "\n",
    "def identity(tensor):\n",
    "    return tensor\n",
    "\n",
    "\n",
    "def shift_right(tensor):\n",
    "    shifted = torch.roll(tensor, 1, 1)\n",
    "    shifted[:, 0] = 0.0\n",
    "    return shifted\n",
    "\n",
    "\n",
    "def shift_left(tensor):\n",
    "    shifted = torch.roll(tensor, -1, 1)\n",
    "    shifted[:, IMAGE_WIDTH-1] = 0.0\n",
    "    return shifted\n",
    "\n",
    "\n",
    "def shift_up(tensor):\n",
    "    shifted = torch.roll(tensor, -1, 0)\n",
    "    shifted[IMAGE_WIDTH-1, :] = 0.0\n",
    "    return shifted\n",
    "\n",
    "\n",
    "def shift_down(tensor):\n",
    "    shifted = torch.roll(tensor, 1, 0)\n",
    "    shifted[0, :] = 0.0\n",
    "    return shifted"
   ]
  },
  {
   "cell_type": "code",
   "execution_count": 189,
   "id": "9d1dd68c",
   "metadata": {},
   "outputs": [],
   "source": [
    "import torch\n",
    "from torch import nn"
   ]
  },
  {
   "cell_type": "code",
   "execution_count": 190,
   "id": "2e43a442",
   "metadata": {},
   "outputs": [],
   "source": [
    "class ConvNetSimple(nn.Module):\n",
    "    def __init__(self):\n",
    "        super().__init__()\n",
    "        self.conv1 = nn.Conv2d(in_channels=1, out_channels=20, kernel_size=5)\n",
    "        self.fa = nn.LeakyReLU()\n",
    "        self.fc1 = nn.Linear(12*12*20, 100)\n",
    "        self.out = nn.Linear(100, OUTPUT_SIZE)\n",
    "\n",
    "    def forward(self, x):\n",
    "        x = self.conv1(x)\n",
    "        x = self.fa(x)\n",
    "        x = torch.max_pool2d(x, kernel_size=2, stride=2)\n",
    "\n",
    "        x = x.view(-1, 12*12*20)\n",
    "        x = self.fc1(x)\n",
    "        x = self.fa(x)\n",
    "\n",
    "        x = self.out(x)\n",
    "        return x\n",
    "\n",
    "\n",
    "class ConvNetTwoConvLayers(nn.Module):\n",
    "    def __init__(self):\n",
    "        super().__init__()\n",
    "        self.conv1 = nn.Conv2d(in_channels=1, out_channels=20, kernel_size=5)\n",
    "        self.conv2 = nn.Conv2d(in_channels=20, out_channels=40, kernel_size=5)\n",
    "        self.fc1 = nn.Linear(4*4*40, 100)\n",
    "        self.out = nn.Linear(100, OUTPUT_SIZE)\n",
    "        self.fa = nn.LeakyReLU()\n",
    "\n",
    "    def forward(self, x):\n",
    "        x = self.conv1(x)\n",
    "        x = torch.sigmoid(x)\n",
    "        x = torch.max_pool2d(x, kernel_size=2, stride=2)\n",
    "\n",
    "        x = self.conv2(x)\n",
    "        x = self.fa(x)\n",
    "        x = torch.max_pool2d(x, kernel_size=2, stride=2)\n",
    "\n",
    "        x = x.view(-1, 4*4*40)\n",
    "        x = self.fc1(x)\n",
    "        x = self.fa(x)\n",
    "\n",
    "        x = self.out(x)\n",
    "        return x"
   ]
  },
  {
   "cell_type": "code",
   "execution_count": 191,
   "id": "b3c32a90",
   "metadata": {},
   "outputs": [],
   "source": [
    "def train_and_test_network(net, num_epochs=40, lr=0.003, wd=0,\n",
    "                           loss_function=nn.CrossEntropyLoss(),\n",
    "                           train_loader=get_train_loader(),\n",
    "                           test_loader=get_test_loader(), optimizer=torch.optim.Adam):\n",
    "    global BEST_RES, BEST_MODEL\n",
    "    \n",
    "    BEST_RES = -1\n",
    "    BEST_MODEL = None\n",
    "    \n",
    "    sgd = optimizer(net.parameters(), lr=lr, weight_decay=wd)\n",
    "\n",
    "    train_network(net, train_loader, num_epochs, loss_function, sgd)\n",
    "\n",
    "    test_network(net, test_loader)\n",
    "    \n",
    "    return BEST_MODEL"
   ]
  },
  {
   "cell_type": "markdown",
   "id": "7f36e40e",
   "metadata": {},
   "source": [
    "# Обучение"
   ]
  },
  {
   "cell_type": "code",
   "execution_count": 192,
   "id": "b26cfd79",
   "metadata": {},
   "outputs": [
    {
     "name": "stdout",
     "output_type": "stream",
     "text": [
      "Test data results: 0.9731, Epoch 1/10\n",
      "Test data results: 0.976, Epoch 2/10\n",
      "Test data results: 0.9799, Epoch 3/10\n",
      "Test data results: 0.9818, Epoch 4/10\n",
      "Test data results: 0.9806, Epoch 5/10\n",
      "Test data results: 0.9851, Epoch 6/10\n",
      "Test data results: 0.985, Epoch 7/10\n",
      "Test data results: 0.9855, Epoch 8/10\n",
      "Test data results: 0.9849, Epoch 9/10\n",
      "Test data results: 0.9883, Epoch 10/10\n",
      "Test data results: 0.9883\n"
     ]
    }
   ],
   "source": [
    "net = ConvNetTwoConvLayers()\n",
    "best_net = train_and_test_network(net, num_epochs=10)"
   ]
  },
  {
   "cell_type": "code",
   "execution_count": 193,
   "id": "a12059d5",
   "metadata": {},
   "outputs": [
    {
     "name": "stdout",
     "output_type": "stream",
     "text": [
      "Test data results: 0.9883\n"
     ]
    }
   ],
   "source": [
    "test_network(BEST_MODEL, get_test_loader())  # MNIST test dataset"
   ]
  },
  {
   "cell_type": "markdown",
   "id": "f3d328c3",
   "metadata": {},
   "source": [
    "# Мой датасет"
   ]
  },
  {
   "cell_type": "code",
   "execution_count": 194,
   "id": "2e85511d",
   "metadata": {},
   "outputs": [],
   "source": [
    "class CustomImageDataset(Dataset):\n",
    "    def __init__(self, folder, transform=None):\n",
    "        self.images = []\n",
    "        self.labels = []\n",
    "        self.transform = transform\n",
    "        \n",
    "        files = [join(folder, f) for f in listdir(folder) if isfile(join(folder, f))]\n",
    "        for file in files:\n",
    "            if file.endswith(\".jpg\"):\n",
    "                image = plt.imread(file)\n",
    "                y_label = file.split(\"/\")[1].split(\"_\")[1][0]\n",
    "                self.images.append(image)\n",
    "                self.labels.append(int(y_label))\n",
    "        self.labels = np.array(self.labels)\n",
    "\n",
    "    def __len__(self):\n",
    "        return len(self.labels)\n",
    "\n",
    "    def __getitem__(self, idx):\n",
    "        image = self.images[idx]\n",
    "        if self.transform:\n",
    "            image = self.transform(image)\n",
    "        return image, self.labels[idx]"
   ]
  },
  {
   "cell_type": "code",
   "execution_count": 195,
   "id": "ce3c6d45",
   "metadata": {},
   "outputs": [],
   "source": [
    "my_test_dataset = CustomImageDataset(\"real_mnist\", transformations)\n",
    "my_test_dataloader = torch.utils.data.DataLoader(my_test_dataset, batch_size=16, shuffle=True)"
   ]
  },
  {
   "cell_type": "markdown",
   "id": "cb20509f",
   "metadata": {},
   "source": [
    "## Проверка размерностей"
   ]
  },
  {
   "cell_type": "code",
   "execution_count": 196,
   "id": "929e3b70",
   "metadata": {},
   "outputs": [
    {
     "name": "stdout",
     "output_type": "stream",
     "text": [
      "torch.Size([16, 1, 28, 28])\n",
      "torch.Size([16])\n"
     ]
    }
   ],
   "source": [
    "for X, y in my_test_dataloader:\n",
    "    print(X.shape)\n",
    "    print(y.shape)\n",
    "    break"
   ]
  },
  {
   "cell_type": "code",
   "execution_count": 197,
   "id": "0d321a24",
   "metadata": {},
   "outputs": [
    {
     "name": "stdout",
     "output_type": "stream",
     "text": [
      "torch.Size([16, 1, 28, 28])\n",
      "torch.Size([16])\n"
     ]
    }
   ],
   "source": [
    "tr_loader = get_train_loader()\n",
    "for X, y in tr_loader:\n",
    "    print(X.shape)\n",
    "    print(y.shape)\n",
    "    break"
   ]
  },
  {
   "cell_type": "markdown",
   "id": "af56b3ca",
   "metadata": {},
   "source": [
    "## Проверка качества нейронной сети"
   ]
  },
  {
   "cell_type": "code",
   "execution_count": 198,
   "id": "12959981",
   "metadata": {},
   "outputs": [
    {
     "name": "stdout",
     "output_type": "stream",
     "text": [
      "Test data results: 0.7222222222222222\n"
     ]
    }
   ],
   "source": [
    "test_network(net, my_test_dataloader)"
   ]
  },
  {
   "cell_type": "markdown",
   "id": "c8294111",
   "metadata": {},
   "source": [
    "## Попробуем добавить нашу аугментацию"
   ]
  },
  {
   "cell_type": "code",
   "execution_count": 199,
   "id": "d08d3257",
   "metadata": {},
   "outputs": [],
   "source": [
    "class BorderAugmentation:\n",
    "    def __init__(\n",
    "        self,\n",
    "        border_width_from_to : tuple = (0, 3),\n",
    "        dirty_from_to : tuple = (0, 10)\n",
    "    ) -> None:\n",
    "        self.border_width_from_to = border_width_from_to\n",
    "        self.dirty_from_to = dirty_from_to\n",
    "        \n",
    "    def _make_noise(self, h, w):\n",
    "        return -np.random.randint(0, 10, size=(h, w))\n",
    "\n",
    "    def _random_roll(self, image, p=0.5):\n",
    "        horizont_roll = 0\n",
    "        vertical_roll = 0\n",
    "        rnd = random.uniform(0, 1)\n",
    "        if rnd <= p:\n",
    "            horizont_roll += 1\n",
    "\n",
    "        rnd = random.uniform(0, 1)\n",
    "        if rnd <= p:\n",
    "            horizont_roll -= 1\n",
    "\n",
    "        rnd = random.uniform(0, 1)\n",
    "        if rnd <= p:\n",
    "            vertical_roll += 1\n",
    "        rnd = random.uniform(0, 1)\n",
    "        if rnd <= p:\n",
    "            vertical_roll -= 1\n",
    "\n",
    "        return np.roll(image, (horizont_roll, vertical_roll))\n",
    "\n",
    "\n",
    "    def _pad_const(self, img, w_hor, w_ver, dirty):\n",
    "        img = np.copy(img)\n",
    "        black = img.min() \n",
    "        white = img.max()\n",
    "        img_size = 28\n",
    "\n",
    "        if w_hor != 0:\n",
    "            img[:w_hor] = white + self._make_noise(w_hor, img_size)\n",
    "            img[-w_hor:] = white + self._make_noise(w_hor, img_size)\n",
    "            for i in range(dirty):\n",
    "                idx2 = random.randint(0, 26)\n",
    "                img[w_hor-1, idx2] = black\n",
    "\n",
    "                idx2 = random.randint(0, 26)\n",
    "                img[-w_hor, idx2] = black\n",
    "\n",
    "        if w_ver != 0:\n",
    "            img[::, :w_ver] = white + self._make_noise(img_size, w_ver)\n",
    "            img[::, -w_ver:] = white + self._make_noise(img_size, w_ver)\n",
    "            for i in range(dirty):\n",
    "                idx2 = random.randint(0, 26)\n",
    "                img[idx2, w_ver-1] = black\n",
    "\n",
    "                idx2 = random.randint(0, 26)\n",
    "                img[idx2, -w_ver] = black\n",
    "\n",
    "        return self._random_roll(img)\n",
    "\n",
    "    def __call__(self, pic):\n",
    "        fr, to = self. border_width_from_to\n",
    "        border_width_h = np.random.randint(fr, to)\n",
    "        border_width_w = np.random.randint(fr, to)\n",
    "        fr, to = self.dirty_from_to\n",
    "        dirty = np.random.randint(fr, to)\n",
    "        \n",
    "        image = self._pad_const(pic, border_width_h, border_width_w, dirty)\n",
    "        return image\n",
    "\n",
    "    def __repr__(self) -> str:\n",
    "        return f\"{self.__class__.__name__}()\""
   ]
  },
  {
   "cell_type": "markdown",
   "id": "0513e79f",
   "metadata": {},
   "source": [
    "## Протестируем аугментацию"
   ]
  },
  {
   "cell_type": "code",
   "execution_count": 200,
   "id": "3b8ae775",
   "metadata": {},
   "outputs": [
    {
     "data": {
      "image/png": "[encoded data removed]",
      "text/plain": [
       "<Figure size 640x480 with 1 Axes>"
      ]
     },
     "metadata": {},
     "output_type": "display_data"
    }
   ],
   "source": [
    "aug = BorderAugmentation()\n",
    "my_transformations = transforms.Compose([BorderAugmentation(), transforms.ToTensor(), normalization])\n",
    "tr_loader = get_train_loader(transform=my_transformations)\n",
    "for X, y in tr_loader:\n",
    "    images = X\n",
    "    break\n",
    "sample_img = images[0].squeeze().numpy()\n",
    "plt.imshow(sample_img, cmap='gray');"
   ]
  },
  {
   "cell_type": "markdown",
   "id": "98ca7420",
   "metadata": {},
   "source": [
    "## Adding new augmentations"
   ]
  },
  {
   "cell_type": "code",
   "execution_count": 203,
   "id": "bec5e040",
   "metadata": {},
   "outputs": [
    {
     "name": "stdout",
     "output_type": "stream",
     "text": [
      "Test data results: 0.9669, Epoch 1/20\n",
      "Test data results: 0.9781, Epoch 2/20\n",
      "Test data results: 0.9828, Epoch 3/20\n",
      "Test data results: 0.9818, Epoch 4/20\n",
      "Test data results: 0.9847, Epoch 5/20\n",
      "Test data results: 0.981, Epoch 6/20\n",
      "Test data results: 0.9863, Epoch 7/20\n",
      "Test data results: 0.9831, Epoch 8/20\n",
      "Test data results: 0.9807, Epoch 9/20\n",
      "Test data results: 0.988, Epoch 10/20\n",
      "Test data results: 0.9864, Epoch 11/20\n",
      "Test data results: 0.9889, Epoch 12/20\n",
      "Test data results: 0.9908, Epoch 13/20\n",
      "Test data results: 0.9861, Epoch 14/20\n",
      "Test data results: 0.9899, Epoch 15/20\n",
      "Test data results: 0.9888, Epoch 16/20\n",
      "Test data results: 0.9839, Epoch 17/20\n",
      "Test data results: 0.9873, Epoch 18/20\n",
      "Test data results: 0.9889, Epoch 19/20\n",
      "Test data results: 0.9875, Epoch 20/20\n",
      "Test data results: 0.9872\n"
     ]
    }
   ],
   "source": [
    "# transformations = transforms.Compose([transforms.ToTensor(), normalization])\n",
    "my_transformations = transforms.Compose([\n",
    "    BorderAugmentation(),\n",
    "    transforms.ToTensor(),\n",
    "    normalization,\n",
    "])\n",
    "\n",
    "net_aug = ConvNetTwoConvLayers()\n",
    "best_net_aug = train_and_test_network(\n",
    "    net_aug,\n",
    "    num_epochs=20,\n",
    "    lr=0.003,\n",
    "    train_loader=get_train_loader(my_transformations),\n",
    "    test_loader=get_test_loader(my_transformations),\n",
    "    optimizer=torch.optim.Adam\n",
    ")"
   ]
  },
  {
   "cell_type": "code",
   "execution_count": 204,
   "id": "7835db65",
   "metadata": {},
   "outputs": [
    {
     "name": "stdout",
     "output_type": "stream",
     "text": [
      "0.9908\n"
     ]
    }
   ],
   "source": [
    "print(BEST_RES)"
   ]
  },
  {
   "cell_type": "markdown",
   "id": "bdc2ddae",
   "metadata": {},
   "source": [
    "## Result on test dataset"
   ]
  },
  {
   "cell_type": "code",
   "execution_count": 205,
   "id": "cb90b445",
   "metadata": {},
   "outputs": [
    {
     "name": "stdout",
     "output_type": "stream",
     "text": [
      "Test data results: 0.8333333333333334\n"
     ]
    }
   ],
   "source": [
    "test_network(BEST_MODEL, my_test_dataloader)"
   ]
  },
  {
   "cell_type": "markdown",
   "id": "85238aa4",
   "metadata": {},
   "source": [
    "# Saving model"
   ]
  },
  {
   "cell_type": "code",
   "execution_count": 207,
   "id": "907cf6b9",
   "metadata": {},
   "outputs": [],
   "source": [
    "torch.save(BEST_MODEL.state_dict(), \"best_model_custom_mnist\")"
   ]
  },
  {
   "cell_type": "code",
   "execution_count": 208,
   "id": "d8bdb555",
   "metadata": {},
   "outputs": [
    {
     "data": {
      "text/plain": [
       "ConvNetTwoConvLayers(\n",
       "  (conv1): Conv2d(1, 20, kernel_size=(5, 5), stride=(1, 1))\n",
       "  (conv2): Conv2d(20, 40, kernel_size=(5, 5), stride=(1, 1))\n",
       "  (fc1): Linear(in_features=640, out_features=100, bias=True)\n",
       "  (out): Linear(in_features=100, out_features=10, bias=True)\n",
       "  (fa): LeakyReLU(negative_slope=0.01)\n",
       ")"
      ]
     },
     "execution_count": 208,
     "metadata": {},
     "output_type": "execute_result"
    }
   ],
   "source": [
    "model2 = ConvNetTwoConvLayers()\n",
    "model2.load_state_dict(torch.load(\"best_model_custom_mnist\"))\n",
    "model2.eval()"
   ]
  },
  {
   "cell_type": "code",
   "execution_count": 209,
   "id": "f9d53543",
   "metadata": {},
   "outputs": [
    {
     "name": "stdout",
     "output_type": "stream",
     "text": [
      "Test data results: 0.8333333333333334\n"
     ]
    }
   ],
   "source": [
    "test_network(model2, my_test_dataloader)"
   ]
  },
  {
   "cell_type": "markdown",
   "id": "7d8b542d",
   "metadata": {},
   "source": [
    "# Exps"
   ]
  },
  {
   "cell_type": "code",
   "execution_count": 114,
   "id": "9f16cdbb",
   "metadata": {},
   "outputs": [],
   "source": [
    "import matplotlib.pyplot as plt\n",
    "import numpy as np\n",
    "import random\n",
    "\n",
    "from os import listdir\n",
    "from os.path import isfile, join"
   ]
  },
  {
   "cell_type": "code",
   "execution_count": 115,
   "id": "4b9deb23",
   "metadata": {},
   "outputs": [],
   "source": []
  },
  {
   "cell_type": "code",
   "execution_count": 116,
   "id": "20fada10",
   "metadata": {},
   "outputs": [],
   "source": [
    "tr_loader = get_train_loader()\n",
    "for X, y in tr_loader:\n",
    "    images = X\n",
    "    break"
   ]
  },
  {
   "cell_type": "code",
   "execution_count": 119,
   "id": "2362acdd",
   "metadata": {},
   "outputs": [],
   "source": [
    "def make_noise(h, w):\n",
    "    return np.random.normal(loc=0.1305, scale=0.05, size=(h, w))\n",
    "\n",
    "def random_roll(image, p=0.5):\n",
    "    horizont_roll = 0\n",
    "    vertical_roll = 0\n",
    "    rnd = random.uniform(0, 1)\n",
    "    if rnd <= p:\n",
    "        horizont_roll += 1\n",
    "\n",
    "    rnd = random.uniform(0, 1)\n",
    "    if rnd <= p:\n",
    "        horizont_roll -= 1\n",
    "    \n",
    "    rnd = random.uniform(0, 1)\n",
    "    if rnd <= p:\n",
    "        vertical_roll += 1\n",
    "    rnd = random.uniform(0, 1)\n",
    "    if rnd <= p:\n",
    "        vertical_roll -= 1\n",
    "    \n",
    "    print(horizont_roll)\n",
    "    print(vertical_roll)\n",
    "    return np.roll(image, (horizont_roll, vertical_roll))\n",
    "\n",
    "\n",
    "def pad_const(img, w_hor, w_ver, dirty=5):\n",
    "    img = np.copy(img)\n",
    "    black = img.min() \n",
    "    white = img.max()\n",
    "    img_size = 28\n",
    "    \n",
    "    if w_hor != 0:\n",
    "        img[:w_hor] = white + make_noise(w_hor, img_size)\n",
    "        img[-w_hor:] = white + make_noise(w_hor, img_size)\n",
    "        for i in range(dirty):\n",
    "            idx2 = random.randint(0, 26)\n",
    "            img[w_hor-1, idx2] = black\n",
    "\n",
    "            idx2 = random.randint(0, 26)\n",
    "            img[-w_hor, idx2] = black\n",
    "            \n",
    "    if w_ver != 0:\n",
    "        img[::, :w_ver] = white + make_noise(img_size, w_ver)\n",
    "        img[::, -w_ver:] = white + make_noise(img_size, w_ver)\n",
    "        for i in range(dirty):\n",
    "            idx2 = random.randint(0, 26)\n",
    "            img[idx2, w_ver-1] = black\n",
    "\n",
    "            idx2 = random.randint(0, 26)\n",
    "            img[idx2, -w_ver] = black\n",
    "    \n",
    "    return random_roll(img)"
   ]
  },
  {
   "cell_type": "code",
   "execution_count": 130,
   "id": "79677441",
   "metadata": {},
   "outputs": [
    {
     "data": {
      "text/plain": [
       "(28, 28)"
      ]
     },
     "execution_count": 130,
     "metadata": {},
     "output_type": "execute_result"
    }
   ],
   "source": [
    "images[idx].squeeze().numpy().shape"
   ]
  },
  {
   "cell_type": "code",
   "execution_count": 120,
   "id": "fe405a0f",
   "metadata": {},
   "outputs": [
    {
     "name": "stdout",
     "output_type": "stream",
     "text": [
      "0\n",
      "0\n"
     ]
    },
    {
     "data": {
      "text/plain": [
       "<matplotlib.image.AxesImage at 0x287d8f150>"
      ]
     },
     "execution_count": 120,
     "metadata": {},
     "output_type": "execute_result"
    },
    {
     "data": {
      "image/png": "[encoded data removed]",
      "text/plain": [
       "<Figure size 640x480 with 1 Axes>"
      ]
     },
     "metadata": {},
     "output_type": "display_data"
    }
   ],
   "source": [
    "idx = 0\n",
    "\n",
    "img = images[idx].squeeze().numpy()\n",
    "img = pad_const(img, np.random.randint(0, 3), np.random.randint(0, 3))\n",
    "plt.imshow(img, cmap='gray')"
   ]
  },
  {
   "cell_type": "code",
   "execution_count": 195,
   "id": "8edebd3c",
   "metadata": {},
   "outputs": [
    {
     "data": {
      "text/plain": [
       "(28, 28)"
      ]
     },
     "execution_count": 195,
     "metadata": {},
     "output_type": "execute_result"
    }
   ],
   "source": [
    "img.shape"
   ]
  },
  {
   "cell_type": "code",
   "execution_count": 60,
   "id": "4ea8314b",
   "metadata": {},
   "outputs": [],
   "source": [
    "folder = \"real_mnist\"\n",
    "files = [join(folder, f) for f in listdir(folder) if isfile(join(folder, f))][1::]"
   ]
  },
  {
   "cell_type": "code",
   "execution_count": 200,
   "id": "274c6ee6",
   "metadata": {},
   "outputs": [
    {
     "data": {
      "text/plain": [
       "<matplotlib.image.AxesImage at 0x296572f90>"
      ]
     },
     "execution_count": 200,
     "metadata": {},
     "output_type": "execute_result"
    },
    {
     "data": {
      "image/png": "[encoded data removed]",
      "text/plain": [
       "<Figure size 640x480 with 1 Axes>"
      ]
     },
     "metadata": {},
     "output_type": "display_data"
    }
   ],
   "source": [
    "idx = 0\n",
    "\n",
    "image = plt.imread(files[idx])\n",
    "\n",
    "plt.imshow(image, cmap='gray')"
   ]
  },
  {
   "cell_type": "code",
   "execution_count": 123,
   "id": "ab5b2c2d",
   "metadata": {},
   "outputs": [
    {
     "data": {
      "text/plain": [
       "array([[252,   0,   2,   0,   3,   0,   0,   0,   1,   0,   0,   1,   0,\n",
       "          0,   0,   0,   3,   0,   1,   0,   0,   0,   0,   1,   1,   0,\n",
       "        130, 251],\n",
       "       [255, 254, 255, 255, 253, 252, 255, 255, 253, 255, 255, 252, 255,\n",
       "        252, 255, 255, 252, 255, 255, 255, 255, 255, 255, 252, 255, 252,\n",
       "        255, 255],\n",
       "       [252, 255, 254, 255, 255, 255, 254, 255, 255, 255, 255, 255, 255,\n",
       "        255, 252, 252, 255, 255, 255, 249, 255, 255, 253, 255, 254, 255,\n",
       "        254, 253],\n",
       "       [255,   7, 195, 190, 189, 189, 192, 190, 190, 190, 190, 187, 187,\n",
       "        191, 194, 192, 190, 189, 191, 193, 190, 192, 188, 190, 193, 191,\n",
       "        252, 255],\n",
       "       [251,   0,   0,   2,   2,   1,   1,   0,   2,   0,   1,   4,   0,\n",
       "          0,   0,   0,   1,   1,   0,   3,   0,   1,   5,   0,   0,   0,\n",
       "        243, 255],\n",
       "       [246,   3,   0,   0,   0,   0,   0,   4,   0,   2,   0,   0,   2,\n",
       "          0,   5, 151, 120,  28,   0,   1,   0,   0,   0,   0,   1,   0,\n",
       "        243, 253],\n",
       "       [250,   0,   4,   0,   3,   4,   0,   0,   0,   0,   2,   0,   0,\n",
       "         13, 250, 255, 255, 255,   2,   0,   4,   0,   0,   2,   0,   2,\n",
       "        244, 255],\n",
       "       [249,   0,   1,   0,   0,   0,   2,   0,   1,   0,   0,   2,   0,\n",
       "        255, 255, 255, 254, 255,  86,   0,   0,   0,   0,   0,   1,   0,\n",
       "        244, 255],\n",
       "       [249,   0,   0,   1,   0,   0,   0,   0,   1,   0,   0,   2, 253,\n",
       "        255, 255,  26,  25, 255,  87,   0,   1,   0,   1,   0,   0,   0,\n",
       "        243, 255],\n",
       "       [249,   0,   0,   1,   0,   0,   0,   0,   0,   2,   2,   0, 255,\n",
       "        255,  19,   0,   1, 157,  85,   0,   3,   0,   3,   1,   0,   0,\n",
       "        243, 255],\n",
       "       [249,   0,   0,   1,   0,   0,   0,   0,   2,   0,   0,   3, 254,\n",
       "        162,   0,   2,   1, 254, 255,   5,   2,   0,   0,   0,   0,   0,\n",
       "        243, 255],\n",
       "       [249,   0,   0,   1,   0,   0,   0,   0,   1,   2,   1,   2, 255,\n",
       "        128,   1,   0, 171, 255, 139,   0,   0,   2,   1,   0,   0,   0,\n",
       "        243, 255],\n",
       "       [249,   0,   0,   1,   0,   0,   0,   0,   0,   0,   2,   0, 252,\n",
       "        255,   0, 255, 255, 158,  34,   1,   0,   0,   0,   1,   0,   0,\n",
       "        243, 255],\n",
       "       [249,   0,   0,   1,   0,   0,   0,   0,   1,   1,   0,   0, 255,\n",
       "        253, 194, 254, 255,   0,   0,   3,   0,   0,   1,   0,   0,   0,\n",
       "        243, 255],\n",
       "       [249,   0,   0,   1,   0,   0,   0,   0,   3,   0,   0,   1, 179,\n",
       "        255, 255, 255, 104,   0,   3,   0,   1,   1,   0,   0,   0,   0,\n",
       "        243, 255],\n",
       "       [249,   0,   0,   1,   0,   0,   0,   0,   0,   0,   1, 103, 254,\n",
       "        255, 253, 255, 253,  41,   0,   1,   0,   0,   1,   0,   0,   0,\n",
       "        243, 255],\n",
       "       [249,   0,   0,   0,   1,   0,   1,   0,   0,   0,  33, 255, 255,\n",
       "        214,   0, 218, 255, 255,   0,   1,   1,   1,   0,   0,   0,   0,\n",
       "        243, 255],\n",
       "       [250,   0,   0,   0,   1,   0,   0,   0,   1,   1, 138, 251, 254,\n",
       "          1,   1,   0, 255, 255,  24,   0,   0,   1,   0,   0,   0,   0,\n",
       "        243, 255],\n",
       "       [250,   0,   1,   0,   1,   0,   0,   0,   0,   0, 254, 255, 236,\n",
       "          2,   0,   0, 124, 252,  87,   0,   3,   1,   0,   3,   0,   0,\n",
       "        243, 255],\n",
       "       [249,   0,   0,   0,   1,   0,   0,   0,   0,   1, 251, 255, 140,\n",
       "          0,   3,   0,   0, 255,  84,   2,   0,   0,   4,   0,   0,   0,\n",
       "        243, 255],\n",
       "       [251,   0,   0,   0,   1,   0,   0,   0,   0,   1,  98, 255, 253,\n",
       "          7,   0,   2,   4, 254,  88,   0,   1,   0,   1,   0,   0,   0,\n",
       "        243, 255],\n",
       "       [253,   1,   0,   0,   1,   0,   0,   0,   2,   0,   0, 255, 255,\n",
       "        253,   0,   1, 253, 255,  86,   0,   0,   1,   0,   1,   0,   0,\n",
       "        243, 255],\n",
       "       [255,   1,   0,   0,   1,   0,   0,   0,   0,   0,   2,  23, 255,\n",
       "        255, 255, 253, 254, 253,   0,   0,   3,   0,   0,   0,   0,   0,\n",
       "        243, 255],\n",
       "       [255,   1,   0,   0,   2,   0,   0,   1,   1,   0,   0,   1,  43,\n",
       "        255, 253, 255, 255,   0,   2,   0,   0,   1,   1,   1,   0,   0,\n",
       "        243, 255],\n",
       "       [255,   0,   0,   0,   0,   0,   0,   0,   0,   0,   1,   0,   2,\n",
       "         33,  62,  66,  26,   3,   0,   1,   0,   0,   2,   0,   0,   0,\n",
       "        243, 255],\n",
       "       [255,   0,   0,   0,   0,   0,   0,   0,   1,   0,   2,   2,   0,\n",
       "          0,   2,   0,   4,   0,   0,   4,   0,   0,   1,   0,   0,   0,\n",
       "        243, 255],\n",
       "       [255,   0,   0,   0,   0,   0,   0,   0,   2,   0,   0,   2,   0,\n",
       "          0,   1,   1,   0,   0,   1,   2,   0,   0,   1,   0,   0,   0,\n",
       "        243, 255],\n",
       "       [255,   0,   0,   0,   0,   0,   0,   0,   1,   1,   0,   0,   0,\n",
       "          0,   0,   0,   2,   2,   0,   0,   0,   1,   1,   0,   0,   0,\n",
       "        243, 255]], dtype=uint8)"
      ]
     },
     "execution_count": 123,
     "metadata": {},
     "output_type": "execute_result"
    }
   ],
   "source": [
    "image"
   ]
  },
  {
   "cell_type": "code",
   "execution_count": null,
   "id": "4815bbdc",
   "metadata": {},
   "outputs": [],
   "source": []
  }
 ],
 "metadata": {
  "kernelspec": {
   "display_name": "Python 3 (ipykernel)",
   "language": "python",
   "name": "python3"
  },
  "language_info": {
   "codemirror_mode": {
    "name": "ipython",
    "version": 3
   },
   "file_extension": ".py",
   "mimetype": "text/x-python",
   "name": "python",
   "nbconvert_exporter": "python",
   "pygments_lexer": "ipython3",
   "version": "3.11.4"
  }
 },
 "nbformat": 4,
 "nbformat_minor": 5
}
